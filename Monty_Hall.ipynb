{
  "nbformat": 4,
  "nbformat_minor": 0,
  "metadata": {
    "colab": {
      "name": "Monty_Hall.ipynb",
      "provenance": []
    },
    "kernelspec": {
      "name": "python3",
      "display_name": "Python 3"
    }
  },
  "cells": [
    {
      "cell_type": "code",
      "metadata": {
        "colab": {
          "base_uri": "https://localhost:8080/"
        },
        "id": "nEW5K-cMhmJK",
        "outputId": "17dd233c-21a9-471c-f0d0-c92b9f67fddf"
      },
      "source": [
        "import random as rd\n",
        "\n",
        "switch_result = []\n",
        "not_switch_result = [] \n",
        "n = 1000000\n",
        "\n",
        "for i in range(n):\n",
        "  MONTY_HALL = ['goat','car','goat']\n",
        "  rd.shuffle(MONTY_HALL) \n",
        "  choose = rd.randint(0,2)\n",
        "  not_switch_result.append(MONTY_HALL[choose])\n",
        "  MONTY_HALL.pop(choose)\n",
        "  MONTY_HALL.remove('goat')\n",
        "  switch_result.append(MONTY_HALL[0])\n",
        "\n",
        "a = float(switch_result.count('car')/1000)\n",
        "b = float(not_switch_result.count('car')/1000)\n",
        "\n",
        "print(a/b)"
      ],
      "execution_count": 2,
      "outputs": [
        {
          "output_type": "stream",
          "text": [
            "1.9984917586454016\n"
          ],
          "name": "stdout"
        }
      ]
    },
    {
      "cell_type": "code",
      "metadata": {
        "id": "j2bQr4Yrh3Av"
      },
      "source": [
        ""
      ],
      "execution_count": null,
      "outputs": []
    }
  ]
}